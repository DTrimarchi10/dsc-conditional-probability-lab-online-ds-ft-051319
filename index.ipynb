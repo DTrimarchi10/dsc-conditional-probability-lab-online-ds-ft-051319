{
 "cells": [
  {
   "cell_type": "markdown",
   "metadata": {},
   "source": [
    "# Conditional Probability - Lab\n",
    "\n",
    "## Introduction\n",
    "\n",
    "In order to be ready for real world applications of probability, it is important to understand what happens when probabilities are not independent. Very often, the probability of a certain event depends on other events happening! Let's see how this all works in this lab.\n",
    "\n",
    "## Objectives\n",
    "\n",
    "You will be able to:\n",
    "\n",
    "- Understand and explain the conditional probability - $P(A \\cap B) = P(A \\mid B) P(B)$\n",
    "- Use the multiplication rule to find the probability of the intersection of two events\n",
    "- Apply the techniques learned in the lesson to simple problems\n",
    "\n",
    "## Exercise 1\n",
    "A coin is tossed and a single 6-sided dice is rolled. Find the probability of landing on the head side of the coin and rolling a 3 on the dice."
   ]
  },
  {
   "cell_type": "code",
   "execution_count": 2,
   "metadata": {},
   "outputs": [
    {
     "data": {
      "text/plain": [
       "0.08333333333333333"
      ]
     },
     "execution_count": 2,
     "metadata": {},
     "output_type": "execute_result"
    }
   ],
   "source": [
    "# Your solution\n",
    "coin_toss = {'H', 'T'}\n",
    "roll_dice = {1,2,3,4,5,6}\n",
    "\n",
    "p_head = 1/2\n",
    "p_3 = 1/6\n",
    "\n",
    "prob_head_3 = p_head * p_3\n",
    "prob_head_3"
   ]
  },
  {
   "cell_type": "markdown",
   "metadata": {},
   "source": [
    "## Exercise 2\n",
    "\n",
    "\n",
    "After conducting a survey, one of the outcomes was that 8 out of 10 of the surey subjects liked chocolate chip cookies. If three survey subjects are chosen at random **with replacement**, what is the probability that all three like chocolate chip cookies?"
   ]
  },
  {
   "cell_type": "code",
   "execution_count": 3,
   "metadata": {},
   "outputs": [
    {
     "data": {
      "text/plain": [
       "0.5120000000000001"
      ]
     },
     "execution_count": 3,
     "metadata": {},
     "output_type": "execute_result"
    }
   ],
   "source": [
    "# Your Solution\n",
    "p_like_cc_cookies = 8/10\n",
    "p_three = p_like_cc_cookies**3\n",
    "p_three"
   ]
  },
  {
   "cell_type": "markdown",
   "metadata": {},
   "source": [
    "## Exercise 3\n",
    "70% of your friends like chocolate flavored ice cream , and 35% like chocolate AND like strawberry flavors.\n",
    "\n",
    "What percent of those who like chocolate also like strawberry?"
   ]
  },
  {
   "cell_type": "code",
   "execution_count": 4,
   "metadata": {},
   "outputs": [
    {
     "data": {
      "text/plain": [
       "0.5"
      ]
     },
     "execution_count": 4,
     "metadata": {},
     "output_type": "execute_result"
    }
   ],
   "source": [
    "# Your solution \n",
    "p_choc_and_straw = 0.35\n",
    "p_choc = 0.7\n",
    "p_straw_given_choc = p_choc_and_straw / p_choc\n",
    "p_straw_given_choc"
   ]
  },
  {
   "cell_type": "markdown",
   "metadata": {},
   "source": [
    "50% of your friends who like chocolate also like strawberry\n",
    "\n",
    "## Exercise 4\n",
    "What is the probability of drawing 2 consecutive aces from a deck of cards. "
   ]
  },
  {
   "cell_type": "code",
   "execution_count": 6,
   "metadata": {},
   "outputs": [
    {
     "data": {
      "text/plain": [
       "0.004524886877828055"
      ]
     },
     "execution_count": 6,
     "metadata": {},
     "output_type": "execute_result"
    }
   ],
   "source": [
    "# Your solution\n",
    "p_ace = 4/52\n",
    "p_ace_given_first_ace = 3/51\n",
    "p_ace * p_ace_given_first_ace"
   ]
  },
  {
   "cell_type": "markdown",
   "metadata": {},
   "source": [
    "## Exercise 5\n",
    "In a manufacturing factory that produces a certain product, there are 100 units of the product, 5 of which are defective. We pick three units from the 100 units at random. \n",
    "\n",
    "What is the probability that none of them are defective?\n",
    "Hint: Use the chain rule here!"
   ]
  },
  {
   "cell_type": "code",
   "execution_count": 7,
   "metadata": {},
   "outputs": [
    {
     "data": {
      "text/plain": [
       "0.8559987631416203"
      ]
     },
     "execution_count": 7,
     "metadata": {},
     "output_type": "execute_result"
    }
   ],
   "source": [
    "# Your solution\n",
    "p_good = 95/100\n",
    "p_good_given_first_good = 94/99\n",
    "p_good_given_first_two_good = 93/98\n",
    "\n",
    "p_three_good = p_good * p_good_given_first_good * p_good_given_first_two_good\n",
    "p_three_good"
   ]
  },
  {
   "cell_type": "markdown",
   "metadata": {},
   "source": [
    "## Exercise 6\n",
    "\n",
    "Let's consider the example where 2 dice are thrown. Given that **at least one** of the dice has come up on a number higher than 4, what is the probability that the sum is 8?\n",
    "\n",
    "Let $i,j$ be the numbers shown on the dice. The events $A$ and $B$ are described below:\n",
    "\n",
    "* **Event $A$ is when either $i$ or $j$ is 5 or 6** (keep an eye on either - or)\n",
    "* **Event $B$ is when $i + j = 8$**\n",
    "\n",
    "\n",
    "* What is the size of sample space $\\Omega$ ?\n",
    "* What is $P(A \\cap B)$ ?\n",
    "* What is $P(A)$ ?\n",
    "* Use above to calculate $P(B \\mid A)$"
   ]
  },
  {
   "cell_type": "code",
   "execution_count": 12,
   "metadata": {},
   "outputs": [
    {
     "data": {
      "text/plain": [
       "0.2"
      ]
     },
     "execution_count": 12,
     "metadata": {},
     "output_type": "execute_result"
    }
   ],
   "source": [
    "# Your solution\n",
    "\n",
    "# Event B = 5,3 6,2 3,5 2,6 - 4 ways in order to get 8\n",
    "#Sample space is 6x6 so there are 36 total possibilities\n",
    "\n",
    "p_A_and_B = 4/36 #4 ways to get 8 with 5 or 6\n",
    "\n",
    "p_5 = 1/6 + 1/6 - 1/36\n",
    "p_6 = 1/6 + 1/6 - 1/36\n",
    "p_5_and_6 = 2/36\n",
    "\n",
    "p_A = p_5 + p_6 - p_5_and_6\n",
    "\n",
    "p_B_given_A = p_A_and_B / p_A\n",
    "p_B_given_A\n"
   ]
  },
  {
   "cell_type": "markdown",
   "metadata": {},
   "source": [
    "## Exercise 7\n",
    "\n",
    "Let's consider a credit card example. At a supermarket, customers are selected randomly, the store owner recorded whether costumers owned a Visa card (event A) or an Amex credit card (event B). Some customers own both cards.\n",
    "You can assume that:\n",
    "\n",
    "- $P(A)$ = 0.5\n",
    "- $P(B)$ = 0.4\n",
    "- both $A$ and $B$ = 0.25.\n",
    "\n",
    "\n",
    "With the knowledge we have about conditional probabilities, compute and interpret the following probabilities:\n",
    "\n",
    "- $P(B \\mid A)$\n",
    "- $P(B' \\mid A)$\n",
    "- $P(A \\mid B)$\n",
    "- $P(A' \\mid B)$\n"
   ]
  },
  {
   "cell_type": "code",
   "execution_count": 13,
   "metadata": {},
   "outputs": [
    {
     "name": "stdout",
     "output_type": "stream",
     "text": [
      "0.5\n",
      "0.5\n",
      "0.625\n",
      "0.375\n"
     ]
    }
   ],
   "source": [
    "# Your solution\n",
    "p_a_and_b = 0.25\n",
    "p_a = 0.5\n",
    "p_b = 0.4\n",
    "\n",
    "#Probability of amex given visa\n",
    "p_b_given_a = p_a_and_b / p_a\n",
    "print(p_b_given_a)\n",
    "\n",
    "#Probability of not amex given visa\n",
    "p_not_b_given_a = 1 - p_b_given_a\n",
    "print(p_not_b_given_a)\n",
    "\n",
    "#Probability of visa given amex\n",
    "p_a_given_b = p_a_and_b / p_b\n",
    "print(p_a_given_b)\n",
    "\n",
    "#Probability of not visa given amex\n",
    "p_not_a_given_b = 1 - p_a_given_b\n",
    "print(p_not_a_given_b)"
   ]
  },
  {
   "cell_type": "markdown",
   "metadata": {},
   "source": [
    "## Summary \n",
    "\n",
    "In this lab you practiced conditional probability and its theorem with some simple problems. The key takeaway from this lab is to be able to identify random events as dependent or independent and calculating the probability of their occurrence using appropriate methods. Next you'll learn about some more conditional probability axioms, building on the knowledge we have so far. "
   ]
  }
 ],
 "metadata": {
  "kernelspec": {
   "display_name": "Python 3",
   "language": "python",
   "name": "python3"
  },
  "language_info": {
   "codemirror_mode": {
    "name": "ipython",
    "version": 3
   },
   "file_extension": ".py",
   "mimetype": "text/x-python",
   "name": "python",
   "nbconvert_exporter": "python",
   "pygments_lexer": "ipython3",
   "version": "3.6.6"
  }
 },
 "nbformat": 4,
 "nbformat_minor": 2
}
